{
 "cells": [
  {
   "cell_type": "code",
   "execution_count": 99,
   "metadata": {
    "scrolled": true
   },
   "outputs": [],
   "source": [
    "import pandas as pd\n",
    "import numpy as np\n",
    "df = pd.read_csv('bondtrain2.csv', parse_dates = True)\n",
    "dfTest = pd.read_csv('bondtest.csv', parse_dates = True)"
   ]
  },
  {
   "cell_type": "code",
   "execution_count": 100,
   "metadata": {},
   "outputs": [],
   "source": [
    "from sklearn import neighbors\n",
    "from sklearn.metrics import confusion_matrix, classification_report"
   ]
  },
  {
   "cell_type": "markdown",
   "metadata": {},
   "source": [
    "convert categorical data into numeric is by using indicator vectors."
   ]
  },
  {
   "cell_type": "markdown",
   "metadata": {},
   "source": [
    "## Training Set Indicator Vectors"
   ]
  },
  {
   "cell_type": "code",
   "execution_count": 101,
   "metadata": {},
   "outputs": [],
   "source": [
    "df['MISDEMEANOR'] = np.where(df['OFFENSENEW'] == 'M', 1, 0)\n",
    "df['FELONY'] = np.where(df['OFFENSENEW'] == 'F',  1, 0)\n",
    "df['OTHER OFF'] = np.where(df['OFFENSENEW'] == 'Other',  1, 0)"
   ]
  },
  {
   "cell_type": "code",
   "execution_count": 102,
   "metadata": {},
   "outputs": [],
   "source": [
    "df['WHITE']  = np.where(df['RACE'] == 'WHITE', 1, 0)\n",
    "df['BLACK']  = np.where(df['RACE'] == 'BLACK', 1, 0)\n",
    "df['HISPANIC']  = np.where(df['RACE'] == 'HISPANIC', 1, 0)\n",
    "df['ASIAN']  = np.where(df['RACE'] == 'ASIAN', 1, 0)\n",
    "df['AMER IND']  = np.where(df['RACE'] == 'AMER IND', 1, 0)"
   ]
  },
  {
   "cell_type": "code",
   "execution_count": 103,
   "metadata": {},
   "outputs": [],
   "source": [
    "df['MALE'] = np.where(df['GENDER'] == 'M', 1, 0)\n",
    "df['FEMALE'] = np.where(df['GENDER'] == 'F',  1, 0)"
   ]
  },
  {
   "cell_type": "markdown",
   "metadata": {},
   "source": [
    "### Removing unnecessary columns in the training set"
   ]
  },
  {
   "cell_type": "code",
   "execution_count": 104,
   "metadata": {
    "scrolled": true
   },
   "outputs": [],
   "source": [
    "df1 = df.drop(['GENDER','RACE','Unnamed: 0','OFFENSE','OFFENSENEW','BOND.BUCKET','FACILITY','DETAINER'], axis = 1)"
   ]
  },
  {
   "cell_type": "markdown",
   "metadata": {},
   "source": [
    "## Testing Set Indicator Vectors"
   ]
  },
  {
   "cell_type": "code",
   "execution_count": 105,
   "metadata": {},
   "outputs": [],
   "source": [
    "dfTest['MISDEMEANOR'] = np.where(dfTest['OFFENSENEW'] == 'M', 1, 0)\n",
    "dfTest['FELONY'] = np.where(dfTest['OFFENSENEW'] == 'F',  1, 0)\n",
    "dfTest['OTHER OFF'] = np.where(dfTest['OFFENSENEW'] == 'Other',  1, 0)"
   ]
  },
  {
   "cell_type": "code",
   "execution_count": 106,
   "metadata": {},
   "outputs": [],
   "source": [
    "dfTest['WHITE']  = np.where(dfTest['RACE'] == 'WHITE', 1, 0)\n",
    "dfTest['BLACK']  = np.where(dfTest['RACE'] == 'BLACK', 1, 0)\n",
    "dfTest['HISPANIC']  = np.where(dfTest['RACE'] == 'HISPANIC', 1, 0)\n",
    "dfTest['ASIAN']  = np.where(dfTest['RACE'] == 'ASIAN', 1, 0)\n",
    "dfTest['AMER IND']  = np.where(dfTest['RACE'] == 'AMER IND', 1, 0)"
   ]
  },
  {
   "cell_type": "code",
   "execution_count": 107,
   "metadata": {},
   "outputs": [],
   "source": [
    "dfTest['MALE'] = np.where(dfTest['GENDER'] == 'M', 1, 0)\n",
    "dfTest['FEMALE'] = np.where(dfTest['GENDER'] == 'F',  1, 0)"
   ]
  },
  {
   "cell_type": "markdown",
   "metadata": {},
   "source": [
    "### Removing unnecessary columns in the testing set"
   ]
  },
  {
   "cell_type": "code",
   "execution_count": 108,
   "metadata": {},
   "outputs": [],
   "source": [
    "dfTest1 = dfTest.drop(['GENDER','RACE','Unnamed: 0','OFFENSE','BOND.BUCKET','OFFENSENEW','FACILITY','DETAINER'], axis = 1)"
   ]
  },
  {
   "cell_type": "markdown",
   "metadata": {},
   "source": [
    "# Training the model and setting the amount of neighbors"
   ]
  },
  {
   "cell_type": "code",
   "execution_count": 109,
   "metadata": {},
   "outputs": [],
   "source": [
    "from sklearn.model_selection import train_test_split\n",
    "X_train = df1[:][['WHITE','BLACK','HISPANIC','ASIAN','AMER IND','MALE','FEMALE','AGE','MISDEMEANOR','FELONY','OTHER OFF']]\n",
    "y_train = df1[:]['BOND.AMOUNT']\n",
    "\n",
    "X_test = dfTest1[:][['WHITE','BLACK','HISPANIC','ASIAN','AMER IND','MALE','FEMALE','AGE','MISDEMEANOR','FELONY','OTHER OFF']]\n",
    "y_test = dfTest1[:]['BOND.AMOUNT']\n",
    "\n"
   ]
  },
  {
   "cell_type": "code",
   "execution_count": 110,
   "metadata": {},
   "outputs": [],
   "source": [
    "#Set the nearest neighbors to 3\n",
    "knn = 𝚗𝚎𝚒𝚐𝚑𝚋𝚘𝚛𝚜.𝙺𝙽𝚎𝚒𝚐𝚑𝚋𝚘𝚛𝚜𝙲𝚕𝚊𝚜𝚜𝚒𝚏𝚒𝚎𝚛(n_neighbors = 11) "
   ]
  },
  {
   "cell_type": "code",
   "execution_count": 111,
   "metadata": {},
   "outputs": [],
   "source": [
    "y_test = pd.to_numeric(dfTest1['BOND.AMOUNT'], downcast='integer')\n",
    "y_train = pd.to_numeric(df1['BOND.AMOUNT'], downcast='integer')"
   ]
  },
  {
   "cell_type": "code",
   "execution_count": 112,
   "metadata": {},
   "outputs": [],
   "source": [
    "from sklearn import preprocessing\n",
    "from sklearn import utils\n",
    "\n",
    "lab_enc = preprocessing.LabelEncoder()\n",
    "y_train = lab_enc.fit_transform(y_train)"
   ]
  },
  {
   "cell_type": "code",
   "execution_count": 113,
   "metadata": {
    "scrolled": true
   },
   "outputs": [],
   "source": [
    "prediction = knn.fit(X_train, y_train).predict(X_test)"
   ]
  },
  {
   "cell_type": "markdown",
   "metadata": {},
   "source": [
    "# Regression Evaluation Metrics\n",
    "Can't look at accuracy when doing a regression"
   ]
  },
  {
   "cell_type": "code",
   "execution_count": 114,
   "metadata": {
    "scrolled": true
   },
   "outputs": [
    {
     "name": "stdout",
     "output_type": "stream",
     "text": [
      "Mean Squared Error: 667547.0915313718\n"
     ]
    }
   ],
   "source": [
    "#Find the MSE\n",
    "from sklearn.metrics import mean_squared_error, r2_score\n",
    "#the r2 score is the correlation between the dependent variable \n",
    "#and the set of independent variables (higher = better)\n",
    "mse =mean_squared_error(y_test, prediction)\n",
    "print(\"Mean Squared Error:\",mse)"
   ]
  },
  {
   "cell_type": "code",
   "execution_count": 115,
   "metadata": {},
   "outputs": [
    {
     "name": "stdout",
     "output_type": "stream",
     "text": [
      "Root Mean Squared Error: 817.035550959303\n"
     ]
    }
   ],
   "source": [
    "#RMSE ; rmse = math.sqrt(mse)\n",
    "import math\n",
    "rmse = math.sqrt(mse)\n",
    "print(\"Root Mean Squared Error:\", rmse)\n",
    "#This is how much we are off by\n",
    "#look at the range of the targets numbers so that we can see how significant the prediction would be \n",
    "#Max and min bond amount in our data set is 1 and 758"
   ]
  },
  {
   "cell_type": "markdown",
   "metadata": {},
   "source": [
    "k = 1, 1035.3917085443968\n",
    "\n",
    "k = 3, 586.848390571679\n",
    "\n",
    "k = 5, 698.6281547537583\n",
    "\n",
    "k = 7, 744.7194554469912\n",
    "\n",
    "k = 9, 807.9662325354424\n",
    "\n",
    "k = 11, 817.035550959303"
   ]
  },
  {
   "cell_type": "code",
   "execution_count": null,
   "metadata": {},
   "outputs": [],
   "source": [
    "#import required packages\n",
    "from sklearn import neighbors\n",
    "from sklearn.metrics import mean_squared_error \n",
    "from math import sqrt\n",
    "import matplotlib.pyplot as plt\n",
    "%matplotlib inline"
   ]
  },
  {
   "cell_type": "markdown",
   "metadata": {},
   "source": [
    "## Plot the error values against the k values"
   ]
  },
  {
   "cell_type": "code",
   "execution_count": 116,
   "metadata": {},
   "outputs": [],
   "source": [
    "errors = [1035.3917085443968,586.848390571679, 698.6281547537583, 744.7194554469912, 807.9662325354424, 817.035550959303]\n",
    "ks = [1,3,5,7,9,11]"
   ]
  },
  {
   "cell_type": "code",
   "execution_count": 117,
   "metadata": {
    "scrolled": true
   },
   "outputs": [
    {
     "data": {
      "text/plain": [
       "Text(0, 0.5, 'Root Mean Square Error')"
      ]
     },
     "execution_count": 117,
     "metadata": {},
     "output_type": "execute_result"
    },
    {
     "data": {
      "image/png": "[encoded data removed]",
      "text/plain": [
       "<Figure size 864x432 with 1 Axes>"
      ]
     },
     "metadata": {
      "needs_background": "light"
     },
     "output_type": "display_data"
    }
   ],
   "source": [
    "plt.figure(figsize=(12, 6))\n",
    "plt.plot( ks, errors, color='red', linestyle='dashed', marker='o',\n",
    "         markerfacecolor='blue', markersize=10)\n",
    "plt.title('Root Mean Square Error Rate K Value')\n",
    "plt.xlabel('K Value')\n",
    "plt.ylabel('Root Mean Square Error')"
   ]
  }
 ],
 "metadata": {
  "kernelspec": {
   "display_name": "Python 3",
   "language": "python",
   "name": "python3"
  },
  "language_info": {
   "codemirror_mode": {
    "name": "ipython",
    "version": 3
   },
   "file_extension": ".py",
   "mimetype": "text/x-python",
   "name": "python",
   "nbconvert_exporter": "python",
   "pygments_lexer": "ipython3",
   "version": "3.7.3"
  }
 },
 "nbformat": 4,
 "nbformat_minor": 2
}
